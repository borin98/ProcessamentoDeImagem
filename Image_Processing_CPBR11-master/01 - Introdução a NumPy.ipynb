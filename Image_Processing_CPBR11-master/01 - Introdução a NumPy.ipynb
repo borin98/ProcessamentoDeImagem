{
 "cells": [
  {
   "cell_type": "markdown",
   "metadata": {},
   "source": [
    "# Introdução a NumPy"
   ]
  },
  {
   "cell_type": "code",
   "execution_count": 53,
   "metadata": {
    "ExecuteTime": {
     "end_time": "2018-02-03T11:26:16.710590Z",
     "start_time": "2018-02-03T11:26:16.707589Z"
    }
   },
   "outputs": [],
   "source": [
    "import numpy as np"
   ]
  },
  {
   "cell_type": "code",
   "execution_count": 52,
   "metadata": {
    "ExecuteTime": {
     "end_time": "2018-02-03T11:26:14.839279Z",
     "start_time": "2018-02-03T11:26:14.833287Z"
    }
   },
   "outputs": [
    {
     "name": "stdout",
     "output_type": "stream",
     "text": [
      "[ 0  1  2  3  4  5  6  7  8  9 10 11 12 13 14 15 16 17 18 19 20 21 22 23]\n"
     ]
    }
   ],
   "source": [
    "#   Criamos Um Vetor De Tamanho 24, Porém Ele Começa Com Sua Soma Desde O Zero\n",
    "A = np.arange(24) # Definindo O Tamanho da Matriz A com 24 Elementos\n",
    "print(A)"
   ]
  },
  {
   "cell_type": "code",
   "execution_count": 30,
   "metadata": {
    "ExecuteTime": {
     "end_time": "2018-02-03T11:00:38.142045Z",
     "start_time": "2018-02-03T11:00:38.137042Z"
    }
   },
   "outputs": [
    {
     "name": "stdout",
     "output_type": "stream",
     "text": [
      "[[ 8  9 10 11 12 13]\n",
      " [14 15 16 17 18 19]\n",
      " [20 21 22 23 24 25]\n",
      " [26 27 28 29 30 31]]\n"
     ]
    }
   ],
   "source": [
    "#   Vamos Transformar O Vetor A Em Uma Matriz De 4 Linhas E Colunas\n",
    "#   Estamos somando 8 em cada Elemento E Limitamos Que A Soma Vá Até O Elemento 24 Da Matriz A\n",
    "A = np.arange(8,8+24).reshape(4,6)  #   Sempre Será Desta Forma Para Realocarmos Os Valores Da Nova Matriz\n",
    "print(A)"
   ]
  },
  {
   "cell_type": "markdown",
   "metadata": {},
   "source": [
    "### Print De Linhas, Colunas, Dimensões, Formato E Que Tipo De Variável Ele Será"
   ]
  },
  {
   "cell_type": "code",
   "execution_count": null,
   "metadata": {
    "ExecuteTime": {
     "end_time": "2018-02-03T11:00:39.348142Z",
     "start_time": "2018-02-03T11:00:39.337131Z"
    }
   },
   "outputs": [
    {
     "name": "stdout",
     "output_type": "stream",
     "text": [
      "Número De Lihas =  4\n",
      "Número De Colunas =  6\n",
      "Dimensão Da Matriz =  2\n",
      "Formato Da Matriz =  (4, 6)\n",
      "Tipo De Dado =  int32\n"
     ]
    }
   ],
   "source": [
    "# Print Do Número De Linhas Da Matriz A :\n",
    "print(\"Números De Linhas = \", A.shape[0])\n",
    "\n",
    "# Print Do Número De Colunas Da Matriz A :\n",
    "print(\"Número De Colunas = \", A.shape[1])\n",
    "\n",
    "# print Da Dimensão Da Matriz A :\n",
    "print(\"Dimensão Da Matriz = \", A.ndim)\n",
    "\n",
    "# Print Do Formato Da Matriz A :\n",
    "print(\"Formato Da Matriz = \", A.shape)\n",
    "\n",
    "# print Do Tipo De Dados Que Ela Possui : \n",
    "print(\"Tipo De Dado = \", A.dtype )"
   ]
  },
  {
   "cell_type": "code",
   "execution_count": null,
   "metadata": {
    "ExecuteTime": {
     "end_time": "2018-02-03T11:02:07.337032Z",
     "start_time": "2018-02-03T11:02:07.330038Z"
    }
   },
   "outputs": [
    {
     "name": "stdout",
     "output_type": "stream",
     "text": [
      "A = \n",
      " [[ 8  9 10 11 12 13]\n",
      " [14 15 16 17 18 19]\n",
      " [20 21 22 23 24 25]\n",
      " [26 27 28 29 30 31]]\n",
      "B = \n",
      " [[ True  True  True  True  True  True]\n",
      " [ True False False False False False]\n",
      " [False False False False False False]\n",
      " [False False False False False False]]\n"
     ]
    }
   ],
   "source": [
    "# Criando Uma Matriz Booleana Que é printa True Quando O Valor De Algum Elemento Pertencente À B Seja Menor Que 15 15\n",
    "B = A < 15\n",
    "print(\"A = \\n\", A)\n",
    "print(\"B = \\n\", B)"
   ]
  },
  {
   "cell_type": "markdown",
   "metadata": {},
   "source": [
    "### Soma Dos Elementos De Cada Coluna "
   ]
  },
  {
   "cell_type": "code",
   "execution_count": 36,
   "metadata": {
    "ExecuteTime": {
     "end_time": "2018-02-03T11:02:50.327580Z",
     "start_time": "2018-02-03T11:02:50.321576Z"
    }
   },
   "outputs": [
    {
     "name": "stdout",
     "output_type": "stream",
     "text": [
      "[68 72 76 80 84 88]\n",
      "[ 63  99 135 171]\n"
     ]
    }
   ],
   "source": [
    "#   Soma Dos Elemento Da Primeira Coluna\n",
    "print(A.sum(axis=0))\n",
    "#   Soma De Todos Os Elementos Da Segunda Coluna\n",
    "print(A.sum(axis=1))"
   ]
  },
  {
   "cell_type": "code",
   "execution_count": 37,
   "metadata": {
    "ExecuteTime": {
     "end_time": "2018-02-03T11:03:20.561054Z",
     "start_time": "2018-02-03T11:03:20.553065Z"
    }
   },
   "outputs": [
    {
     "name": "stdout",
     "output_type": "stream",
     "text": [
      "Dimensão De C =  1\n",
      "Média Dos Elementos Em C =  19.5\n"
     ]
    }
   ],
   "source": [
    "# Vamos Calcular O Número De Dimensões Do Array C = A.sum(axis=0)\n",
    "C = A.sum(axis=0)\n",
    "print(\"Dimensão De C = \", C.ndim)\n",
    "\n",
    "# Calculando A Média Dos Elementos Do Vetor De C\n",
    "mean = C.sum(axis=0)/(A.shape[0] * A.shape[1])\n",
    "print(\"Média Dos Elementos Em C = \", mean)"
   ]
  },
  {
   "cell_type": "code",
   "execution_count": 38,
   "metadata": {
    "ExecuteTime": {
     "end_time": "2018-02-03T11:03:29.445475Z",
     "start_time": "2018-02-03T11:03:29.401820Z"
    }
   },
   "outputs": [
    {
     "name": "stdout",
     "output_type": "stream",
     "text": [
      "C = \n",
      " [[ 0.          0.04347826  0.08695652  0.13043478  0.17391304  0.2173913 ]\n",
      " [ 0.26086957  0.30434783  0.34782609  0.39130435  0.43478261  0.47826087]\n",
      " [ 0.52173913  0.56521739  0.60869565  0.65217391  0.69565217  0.73913043]\n",
      " [ 0.7826087   0.82608696  0.86956522  0.91304348  0.95652174  1.        ]]\n"
     ]
    }
   ],
   "source": [
    "# Criando Uma Matriz C normalizada Em Relação À A :\n",
    "C = A - np.min(A)\n",
    "C = C/np.max(C)\n",
    "\n",
    "print(\"C = \\n\", C)"
   ]
  },
  {
   "cell_type": "code",
   "execution_count": 39,
   "metadata": {
    "ExecuteTime": {
     "end_time": "2018-02-03T11:03:39.073192Z",
     "start_time": "2018-02-03T11:03:39.066186Z"
    }
   },
   "outputs": [
    {
     "name": "stdout",
     "output_type": "stream",
     "text": [
      "D = \n",
      " [[ 0.          0.          0.          0.          0.          0.        ]\n",
      " [ 0.33333333  0.33333333  0.33333333  0.33333333  0.33333333  0.33333333]\n",
      " [ 0.66666667  0.66666667  0.66666667  0.66666667  0.66666667  0.66666667]\n",
      " [ 1.          1.          1.          1.          1.          1.        ]]\n"
     ]
    }
   ],
   "source": [
    "# Criando Uma Matriz D Que É Normalizada Com As Colunas De A : \n",
    "D = A - np.min(A,axis=0)\n",
    "D = D / D.max(axis=0)\n",
    "print(\"D = \\n\", D)"
   ]
  },
  {
   "cell_type": "markdown",
   "metadata": {},
   "source": [
    "### Slicing"
   ]
  },
  {
   "cell_type": "code",
   "execution_count": 40,
   "metadata": {
    "ExecuteTime": {
     "end_time": "2018-02-03T11:03:58.294991Z",
     "start_time": "2018-02-03T11:03:58.288988Z"
    }
   },
   "outputs": [
    {
     "name": "stdout",
     "output_type": "stream",
     "text": [
      "[[ 9 11 13]\n",
      " [15 17 19]\n",
      " [21 23 25]\n",
      " [27 29 31]]\n"
     ]
    }
   ],
   "source": [
    "# Essa Operação É denominada Slicing\n",
    "# Estou Criando Uma Matriz Que começa com i = 1 e vai pulando as colunas em uma e uma, com 3 colunas\n",
    "AA = A[:,1::2]\n",
    "print(AA)"
   ]
  },
  {
   "cell_type": "code",
   "execution_count": 41,
   "metadata": {
    "ExecuteTime": {
     "end_time": "2018-02-03T11:04:07.211281Z",
     "start_time": "2018-02-03T11:04:07.178248Z"
    }
   },
   "outputs": [
    {
     "name": "stdout",
     "output_type": "stream",
     "text": [
      "AB = \n",
      " [[14 15 16 17 18 19]\n",
      " [26 27 28 29 30 31]]\n"
     ]
    }
   ],
   "source": [
    "# Criando uma matrix AB com as antigas linhas da matrix A, usando os conceitos do slicing:\n",
    "AB = A[1::2,:]\n",
    "print(\"AB = \\n\", AB)"
   ]
  },
  {
   "cell_type": "markdown",
   "metadata": {},
   "source": [
    "### Matrix Do Produto"
   ]
  },
  {
   "cell_type": "code",
   "execution_count": 42,
   "metadata": {
    "ExecuteTime": {
     "end_time": "2018-02-03T11:04:32.182211Z",
     "start_time": "2018-02-03T11:04:27.527852Z"
    }
   },
   "outputs": [
    {
     "name": "stdout",
     "output_type": "stream",
     "text": [
      "The slowest run took 25.81 times longer than the fastest. This could mean that an intermediate result is being cached.\n",
      "100000 loops, best of 3: 6.51 µs per loop\n",
      "The slowest run took 42.50 times longer than the fastest. This could mean that an intermediate result is being cached.\n",
      "1000000 loops, best of 3: 461 ns per loop\n",
      "AC = \n",
      " [[13 19 25 31]\n",
      " [12 18 24 30]\n",
      " [11 17 23 29]\n",
      " [10 16 22 28]\n",
      " [ 9 15 21 27]\n",
      " [ 8 14 20 26]]\n"
     ]
    }
   ],
   "source": [
    "# Criando uma matrix AC rotacionada em 90 graus com anti-clockwise da matriz A\n",
    "%timeit AC = np.rot90(A)\n",
    "%timeit AC = A.T[::-1,:]\n",
    "\n",
    "AC = A.T[::-1,:]\n",
    "\n",
    "print(\"AC = \\n\", AC)"
   ]
  },
  {
   "cell_type": "markdown",
   "metadata": {},
   "source": [
    "Compute $$ E = A A^T $$"
   ]
  },
  {
   "cell_type": "code",
   "execution_count": 43,
   "metadata": {
    "ExecuteTime": {
     "end_time": "2018-02-03T11:05:25.830892Z",
     "start_time": "2018-02-03T11:05:16.166023Z"
    }
   },
   "outputs": [
    {
     "name": "stdout",
     "output_type": "stream",
     "text": [
      "The slowest run took 20.63 times longer than the fastest. This could mean that an intermediate result is being cached.\n",
      "1000000 loops, best of 3: 1.17 µs per loop\n",
      "The slowest run took 8.12 times longer than the fastest. This could mean that an intermediate result is being cached.\n",
      "1000000 loops, best of 3: 1.15 µs per loop\n",
      "[[ 679 1057 1435 1813]\n",
      " [1057 1651 2245 2839]\n",
      " [1435 2245 3055 3865]\n",
      " [1813 2839 3865 4891]]\n"
     ]
    }
   ],
   "source": [
    "%timeit E = np.dot(A, A.T)\n",
    "%timeit E = A.dot(A.T)\n",
    "\n",
    "E = np.dot(A, A.T)\n",
    "\n",
    "print(E)"
   ]
  },
  {
   "cell_type": "markdown",
   "metadata": {},
   "source": [
    "### 3-D array"
   ]
  },
  {
   "cell_type": "code",
   "execution_count": 44,
   "metadata": {
    "ExecuteTime": {
     "end_time": "2018-02-03T11:05:33.244829Z",
     "start_time": "2018-02-03T11:05:33.238828Z"
    }
   },
   "outputs": [
    {
     "name": "stdout",
     "output_type": "stream",
     "text": [
      "[[[ 8  9 10]\n",
      "  [11 12 13]\n",
      "  [14 15 16]\n",
      "  [17 18 19]]\n",
      "\n",
      " [[20 21 22]\n",
      "  [23 24 25]\n",
      "  [26 27 28]\n",
      "  [29 30 31]]]\n"
     ]
    }
   ],
   "source": [
    "F = A.reshape(2,4,3)\n",
    "print(F)"
   ]
  },
  {
   "cell_type": "code",
   "execution_count": 45,
   "metadata": {
    "ExecuteTime": {
     "end_time": "2018-02-03T11:05:42.617248Z",
     "start_time": "2018-02-03T11:05:42.609242Z"
    }
   },
   "outputs": [
    {
     "name": "stdout",
     "output_type": "stream",
     "text": [
      "Dimensão De F =  3\n",
      "Formato De F =  (2, 4, 3)\n",
      "Os Valores Da média de F[0] e F[1] =  [ 13.5  25.5]\n"
     ]
    }
   ],
   "source": [
    "# Printando o número De Dimensões Da Matriz F\n",
    "print(\"Dimensão De F = \", F.ndim)\n",
    "\n",
    "# Printando O Formato Da Matriz F\n",
    "print(\"Formato De F = \", F.shape)\n",
    "\n",
    "# Computa Os Valores Da média de F[0] e F[1], usando um único comando ussando F.mean(??)\n",
    "# print(\"mean value of the two matrices F[0] and F[1] = \", F.mean(2).mean(1))\n",
    "\n",
    "print(\"Os Valores Da média de F[0] e F[1] = \", F.mean(axis = (1, 2)))"
   ]
  },
  {
   "cell_type": "code",
   "execution_count": 46,
   "metadata": {
    "ExecuteTime": {
     "end_time": "2018-02-03T11:05:49.311322Z",
     "start_time": "2018-02-03T11:05:49.306319Z"
    }
   },
   "outputs": [
    {
     "name": "stdout",
     "output_type": "stream",
     "text": [
      "[1 2 3 4]\n"
     ]
    }
   ],
   "source": [
    "v = np.array([1,2,3,4])\n",
    "# print(a)\n",
    "print(v)"
   ]
  },
  {
   "cell_type": "markdown",
   "metadata": {},
   "source": [
    "### Broadcasting\n",
    "\n",
    "- Qual é o conceito de broadcasting utilizando a biblioteca do Numpy ?\n",
    "- Explicação: \n",
    "\n",
    "É quando um array unidimencional ou uma matriz de tamanho diferente faz uma operação em uma matriz sem um loop explícito.\n",
    "Em Algebra Linear, Temos Algo Similar Utilizando Matrizes Mudança De Base E Operações Matriciais"
    "As dimensões devem ser adequadas para realizar esta operação.\n",
    "Exemplo: Dado a matriz A com i1 linhas e j1 colunas e outra matriz B com i2 linhas e j2 colunas\n"
    "Poderemos fazer apenas a operação se, e somente se, j1 == i2\n"
    "Assim, teremos uma matriz resultante C= AxB tal que C terá i1 linhas e j2 colunas "
    "\n",
    "\n",
    "Por exemplo, vamos tomar um array unidimenciona B ( Poderia ser uma matriz b menor também ) com uma matriz A Bidimencional \n",
    "\n",
    "Para mais informaçoes sobre o broadcasting, basta clicar [aqui](https://docs.scipy.org/doc/numpy/user/basics.broadcasting.html)."
   ]
  },
  {
   "cell_type": "code",
   "execution_count": 47,
   "metadata": {
    "ExecuteTime": {
     "end_time": "2018-02-03T11:06:21.694832Z",
     "start_time": "2018-02-03T11:06:21.685824Z"
    }
   },
   "outputs": [
    {
     "data": {
      "text/plain": [
       "array([[  3.,  12.,  24.],\n",
       "       [ 12.,  30.,  48.]])"
      ]
     },
     "execution_count": 47,
     "metadata": {},
     "output_type": "execute_result"
    }
   ],
   "source": [
    "# Exemplo De Broadcasting\n",
    "a = np.array([[1.0, 2.0, 3.0], [4.0, 5.0, 6.0]])\n",
    "b = np.array([3, 6, 8])\n",
    "a * b"
   ]
  },
  {
   "cell_type": "code",
   "execution_count": 48,
   "metadata": {
    "ExecuteTime": {
     "end_time": "2018-02-03T11:06:51.045326Z",
     "start_time": "2018-02-03T11:06:35.070928Z"
    }
   },
   "outputs": [
    {
     "name": "stdout",
     "output_type": "stream",
     "text": [
      "The slowest run took 26.48 times longer than the fastest. This could mean that an intermediate result is being cached.\n",
      "100000 loops, best of 3: 3.22 µs per loop\n",
      "The slowest run took 6.69 times longer than the fastest. This could mean that an intermediate result is being cached.\n",
      "1000000 loops, best of 3: 1.88 µs per loop\n",
      "The slowest run took 8.40 times longer than the fastest. This could mean that an intermediate result is being cached.\n",
      "1000000 loops, best of 3: 1.61 µs per loop\n",
      "G = \n",
      " [[ 9 10 11 12 13 14]\n",
      " [16 17 18 19 20 21]\n",
      " [23 24 25 26 27 28]\n",
      " [30 31 32 33 34 35]]\n"
     ]
    }
   ],
   "source": [
    "# Usando o conceito de broadcasting, criamos uma matrix G com as linhas do vector v com todas as colunas de V A:\n",
    "\n",
    "G = A.T + v\n",
    "G = G.T\n",
    "\n",
    "%timeit G = np.expand_dims(v, axis=1) + A\n",
    "\n",
    "%timeit G = v.reshape(len(v),1) + A\n",
    "\n",
    "%timeit G = v[:,None] + A\n",
    "\n",
    "print(\"G = \\n\", G)"
   ]
  },
  {
   "cell_type": "markdown",
   "metadata": {},
   "source": [
    "### Function - one-hot encoding\n",
    "\n",
    "Define a function that receives as input an one-dimensional array and the output a one-hot encoding following the example:"
   ]
  },
  {
   "cell_type": "code",
   "execution_count": 49,
   "metadata": {
    "ExecuteTime": {
     "end_time": "2018-02-03T11:07:09.280647Z",
     "start_time": "2018-02-03T11:07:09.274645Z"
    }
   },
   "outputs": [
    {
     "name": "stdout",
     "output_type": "stream",
     "text": [
      "[2 0 3 2 1]\n"
     ]
    }
   ],
   "source": [
    "# input\n",
    "aa = np.array([2,0,3,2,1])\n",
    "print(aa)"
   ]
  },
  {
   "cell_type": "code",
   "execution_count": 50,
   "metadata": {
    "ExecuteTime": {
     "end_time": "2018-02-03T11:07:15.778217Z",
     "start_time": "2018-02-03T11:07:15.772214Z"
    }
   },
   "outputs": [
    {
     "name": "stdout",
     "output_type": "stream",
     "text": [
      "[[0 0 1 0]\n",
      " [1 0 0 0]\n",
      " [0 0 0 1]\n",
      " [0 0 1 0]\n",
      " [0 1 0 0]]\n"
     ]
    }
   ],
   "source": [
    "# output\n",
    "oo = np.array([[0,0,1,0],\n",
    "               [1,0,0,0],\n",
    "               [0,0,0,1],\n",
    "               [0,0,1,0],\n",
    "               [0,1,0,0]])\n",
    "print(oo)"
   ]
  },
  {
   "cell_type": "code",
   "execution_count": 54,
   "metadata": {
    "ExecuteTime": {
     "end_time": "2018-02-03T11:28:25.815989Z",
     "start_time": "2018-02-03T11:28:25.804985Z"
    }
   },
   "outputs": [
    {
     "name": "stdout",
     "output_type": "stream",
     "text": [
      "[[0 0 1 0]\n",
      " [1 0 0 0]\n",
      " [0 0 0 1]\n",
      " [0 0 1 0]\n",
      " [0 1 0 0]]\n",
      "[[0 1 0 0 0 0]\n",
      " [0 0 0 1 0 0]\n",
      " [0 0 1 0 0 0]\n",
      " [1 0 0 0 0 0]\n",
      " [0 0 0 0 0 1]\n",
      " [0 0 0 0 1 0]]\n"
     ]
    }
   ],
   "source": [
    "# Tenta Evitar Os Loopings explícitos, Para Evitar Futuros Bugs\n",
    "# Uae Apenas Os Operadores NumPy , Sem Chamada De Outras Bibliotecas\n",
    "def one_hot(i):\n",
    "    # Insira Seu Código Aqui\n",
    "    M = np.zeros((i.size,np.max(i)+1), dtype=np.int8)\n",
    "    M[np.arange(i.size),i] = 1    \n",
    "    \n",
    "    return M\n",
    "\n",
    "print(one_hot(aa))\n",
    "\n",
    "# Teste Com Outros Vetores\n",
    "print(one_hot(np.array([1, 3, 2, 0, 5, 4]))) # Esses Argumentos são Apenas index E Não lable"
   ]
  }
 ],
 "metadata": {
  "kernelspec": {
   "display_name": "Python 3",
   "language": "python",
   "name": "python3"
  },
  "language_info": {
   "codemirror_mode": {
    "name": "ipython",
    "version": 3
   },
   "file_extension": ".py",
   "mimetype": "text/x-python",
   "name": "python",
   "nbconvert_exporter": "python",
   "pygments_lexer": "ipython3",
   "version": "3.5.3"
  }
 },
 "nbformat": 4,
 "nbformat_minor": 2
}
